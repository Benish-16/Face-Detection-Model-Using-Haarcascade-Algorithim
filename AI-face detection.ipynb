{
 "cells": [
  {
   "cell_type": "markdown",
   "id": "a208d80b",
   "metadata": {},
   "source": [
    "## Face Detection Model Using Haarcascade Algorithim"
   ]
  },
  {
   "cell_type": "code",
   "execution_count": null,
   "id": "8548f503",
   "metadata": {},
   "outputs": [],
   "source": [
    "import cv2\n",
    "video_capture=cv2.VideoCapture(0, cv2.CAP_DSHOW)\n",
    "face_cascade=cv2.CascadeClassifier(r\"C:\\Users\\91600\\Desktop\\Newfolder\\ancodapython\\Lib\\site-packages\\cv2\\data\\haarcascade_frontalface_default.xml\")\n",
    "while True: \n",
    "    if video_capture.isOpened():\n",
    "      ret,img=video_capture.read()\n",
    "      gray=cv2.cvtColor(img, cv2.COLOR_BGR2GRAY)\n",
    "      faces=face_cascade.detectMultiScale(gray,1.1,4)\n",
    "    for(x,y,w,h) in faces :\n",
    "        cv2.rectangle(img,(x,y),(x+w,y+h),(0,255,0),3)\n",
    "        cv2.putText(img,\"HELLO USER,FACE DETECTED SUCCESSFULLY\",(50,30),cv2.FONT_HERSHEY_COMPLEX,0.75,(0,255,0),2)\n",
    "    if faces==() :\n",
    "         cv2.putText(img,\"HELLO USER,NO FACE FOUND \",(50,30),cv2.FONT_HERSHEY_COMPLEX,1,(0,0,255),2)\n",
    "         cv2.putText(img,\"PLEASE MOVE CAMERA TOWARDS YOUR FACE\",(60,70),cv2.FONT_HERSHEY_COMPLEX,0.75,(0,0,255),2)\n",
    "    \n",
    "    cv2.imshow( \"Windowframe\",img)\n",
    "    key=cv2.waitKey(1)\n",
    "    if  key==27:\n",
    "      break\n",
    "video_capture.release()\n",
    "cv2.destroyAllWindows()"
   ]
  }
 ],
 "metadata": {
  "kernelspec": {
   "display_name": "Python 3 (ipykernel)",
   "language": "python",
   "name": "python3"
  },
  "language_info": {
   "codemirror_mode": {
    "name": "ipython",
    "version": 3
   },
   "file_extension": ".py",
   "mimetype": "text/x-python",
   "name": "python",
   "nbconvert_exporter": "python",
   "pygments_lexer": "ipython3",
   "version": "3.9.13"
  }
 },
 "nbformat": 4,
 "nbformat_minor": 5
}
